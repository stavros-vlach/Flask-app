{
 "cells": [
  {
   "cell_type": "code",
   "execution_count": 3,
   "id": "39275bf8-0665-4b40-a4bc-b190f6a9ca51",
   "metadata": {},
   "outputs": [],
   "source": [
    "import numpy as np"
   ]
  },
  {
   "cell_type": "code",
   "execution_count": 11,
   "id": "be2d4197-32d1-4055-88ef-b6b2f50e2f1b",
   "metadata": {},
   "outputs": [],
   "source": [
    "def f1(x):\n",
    "    return (x**2+1) % 10\n"
   ]
  },
  {
   "cell_type": "code",
   "execution_count": 14,
   "id": "4831efce-6bb7-4804-ba0c-dbf9673dcd28",
   "metadata": {},
   "outputs": [
    {
     "name": "stdout",
     "output_type": "stream",
     "text": [
      "f1( 5 )= 0b110\n",
      " ---------------\n",
      "f1( 11 )= 0b10\n",
      " ---------------\n",
      "f1( 5 )= 0b110\n",
      " ---------------\n",
      "f1( 14 )= 0b111\n",
      " ---------------\n",
      "f1( 11 )= 0b10\n",
      " ---------------\n",
      "f1( 18 )= 0b101\n",
      " ---------------\n",
      "f1( 19 )= 0b10\n",
      " ---------------\n",
      "f1( 5 )= 0b110\n",
      " ---------------\n"
     ]
    }
   ],
   "source": [
    "for x in [5, 11, 5, 14, 11, 18, 19, 5]:\n",
    "    print(\"f1(\",x,\")=\", bin(f1(x)))\n",
    "    print(' ---------------')\n"
   ]
  }
 ],
 "metadata": {
  "kernelspec": {
   "display_name": "Python 3 (ipykernel)",
   "language": "python",
   "name": "python3"
  },
  "language_info": {
   "codemirror_mode": {
    "name": "ipython",
    "version": 3
   },
   "file_extension": ".py",
   "mimetype": "text/x-python",
   "name": "python",
   "nbconvert_exporter": "python",
   "pygments_lexer": "ipython3",
   "version": "3.12.5"
  }
 },
 "nbformat": 4,
 "nbformat_minor": 5
}
